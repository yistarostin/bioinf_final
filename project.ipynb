{
  "cells": [
    {
      "cell_type": "code",
      "source": [
        "!pip install biopython fuc pybedtools\n",
        "!apt-get install bedtools"
      ],
      "metadata": {
        "colab": {
          "base_uri": "https://localhost:8080/"
        },
        "id": "qsQXslLsIG_p",
        "outputId": "2063deac-c756-4dec-d436-e121039aeecf"
      },
      "execution_count": 1,
      "outputs": [
        {
          "output_type": "stream",
          "name": "stdout",
          "text": [
            "Collecting biopython\n",
            "  Downloading biopython-1.85-cp311-cp311-manylinux_2_17_x86_64.manylinux2014_x86_64.whl.metadata (13 kB)\n",
            "Collecting fuc\n",
            "  Downloading fuc-0.38.0-py3-none-any.whl.metadata (16 kB)\n",
            "Collecting pybedtools\n",
            "  Downloading pybedtools-0.12.0.tar.gz (12.6 MB)\n",
            "\u001b[2K     \u001b[90m━━━━━━━━━━━━━━━━━━━━━━━━━━━━━━━━━━━━━━━━\u001b[0m \u001b[32m12.6/12.6 MB\u001b[0m \u001b[31m56.6 MB/s\u001b[0m eta \u001b[36m0:00:00\u001b[0m\n",
            "\u001b[?25h  Installing build dependencies ... \u001b[?25l\u001b[?25hdone\n",
            "  Getting requirements to build wheel ... \u001b[?25l\u001b[?25hdone\n",
            "  Preparing metadata (pyproject.toml) ... \u001b[?25l\u001b[?25hdone\n",
            "Requirement already satisfied: numpy in /usr/local/lib/python3.11/dist-packages (from biopython) (2.0.2)\n",
            "Requirement already satisfied: lxml in /usr/local/lib/python3.11/dist-packages (from fuc) (5.4.0)\n",
            "Requirement already satisfied: matplotlib in /usr/local/lib/python3.11/dist-packages (from fuc) (3.10.0)\n",
            "Requirement already satisfied: matplotlib-venn in /usr/local/lib/python3.11/dist-packages (from fuc) (1.1.2)\n",
            "Requirement already satisfied: pandas in /usr/local/lib/python3.11/dist-packages (from fuc) (2.2.2)\n",
            "Collecting pyranges (from fuc)\n",
            "  Downloading pyranges-0.1.4-py3-none-any.whl.metadata (3.7 kB)\n",
            "Collecting pysam (from fuc)\n",
            "  Downloading pysam-0.23.3-cp311-cp311-manylinux_2_28_x86_64.whl.metadata (1.7 kB)\n",
            "Requirement already satisfied: scipy in /usr/local/lib/python3.11/dist-packages (from fuc) (1.15.3)\n",
            "Requirement already satisfied: seaborn in /usr/local/lib/python3.11/dist-packages (from fuc) (0.13.2)\n",
            "Requirement already satisfied: statsmodels in /usr/local/lib/python3.11/dist-packages (from fuc) (0.14.4)\n",
            "Requirement already satisfied: contourpy>=1.0.1 in /usr/local/lib/python3.11/dist-packages (from matplotlib->fuc) (1.3.2)\n",
            "Requirement already satisfied: cycler>=0.10 in /usr/local/lib/python3.11/dist-packages (from matplotlib->fuc) (0.12.1)\n",
            "Requirement already satisfied: fonttools>=4.22.0 in /usr/local/lib/python3.11/dist-packages (from matplotlib->fuc) (4.58.4)\n",
            "Requirement already satisfied: kiwisolver>=1.3.1 in /usr/local/lib/python3.11/dist-packages (from matplotlib->fuc) (1.4.8)\n",
            "Requirement already satisfied: packaging>=20.0 in /usr/local/lib/python3.11/dist-packages (from matplotlib->fuc) (24.2)\n",
            "Requirement already satisfied: pillow>=8 in /usr/local/lib/python3.11/dist-packages (from matplotlib->fuc) (11.2.1)\n",
            "Requirement already satisfied: pyparsing>=2.3.1 in /usr/local/lib/python3.11/dist-packages (from matplotlib->fuc) (3.2.3)\n",
            "Requirement already satisfied: python-dateutil>=2.7 in /usr/local/lib/python3.11/dist-packages (from matplotlib->fuc) (2.9.0.post0)\n",
            "Requirement already satisfied: pytz>=2020.1 in /usr/local/lib/python3.11/dist-packages (from pandas->fuc) (2025.2)\n",
            "Requirement already satisfied: tzdata>=2022.7 in /usr/local/lib/python3.11/dist-packages (from pandas->fuc) (2025.2)\n",
            "Collecting ncls>=0.0.63 (from pyranges->fuc)\n",
            "  Downloading ncls-0.0.68-cp311-cp311-manylinux_2_17_x86_64.manylinux2014_x86_64.whl.metadata (4.6 kB)\n",
            "Requirement already satisfied: tabulate in /usr/local/lib/python3.11/dist-packages (from pyranges->fuc) (0.9.0)\n",
            "Collecting sorted_nearest>=0.0.33 (from pyranges->fuc)\n",
            "  Downloading sorted_nearest-0.0.39-cp311-cp311-manylinux_2_17_x86_64.manylinux2014_x86_64.whl.metadata (964 bytes)\n",
            "Requirement already satisfied: natsort in /usr/local/lib/python3.11/dist-packages (from pyranges->fuc) (8.4.0)\n",
            "Requirement already satisfied: patsy>=0.5.6 in /usr/local/lib/python3.11/dist-packages (from statsmodels->fuc) (1.0.1)\n",
            "Requirement already satisfied: six>=1.5 in /usr/local/lib/python3.11/dist-packages (from python-dateutil>=2.7->matplotlib->fuc) (1.17.0)\n",
            "Downloading biopython-1.85-cp311-cp311-manylinux_2_17_x86_64.manylinux2014_x86_64.whl (3.3 MB)\n",
            "\u001b[2K   \u001b[90m━━━━━━━━━━━━━━━━━━━━━━━━━━━━━━━━━━━━━━━━\u001b[0m \u001b[32m3.3/3.3 MB\u001b[0m \u001b[31m84.5 MB/s\u001b[0m eta \u001b[36m0:00:00\u001b[0m\n",
            "\u001b[?25hDownloading fuc-0.38.0-py3-none-any.whl (154 kB)\n",
            "\u001b[2K   \u001b[90m━━━━━━━━━━━━━━━━━━━━━━━━━━━━━━━━━━━━━━━━\u001b[0m \u001b[32m154.7/154.7 kB\u001b[0m \u001b[31m12.3 MB/s\u001b[0m eta \u001b[36m0:00:00\u001b[0m\n",
            "\u001b[?25hDownloading pyranges-0.1.4-py3-none-any.whl (1.5 MB)\n",
            "\u001b[2K   \u001b[90m━━━━━━━━━━━━━━━━━━━━━━━━━━━━━━━━━━━━━━━━\u001b[0m \u001b[32m1.5/1.5 MB\u001b[0m \u001b[31m52.4 MB/s\u001b[0m eta \u001b[36m0:00:00\u001b[0m\n",
            "\u001b[?25hDownloading pysam-0.23.3-cp311-cp311-manylinux_2_28_x86_64.whl (26.5 MB)\n",
            "\u001b[2K   \u001b[90m━━━━━━━━━━━━━━━━━━━━━━━━━━━━━━━━━━━━━━━━\u001b[0m \u001b[32m26.5/26.5 MB\u001b[0m \u001b[31m10.0 MB/s\u001b[0m eta \u001b[36m0:00:00\u001b[0m\n",
            "\u001b[?25hDownloading ncls-0.0.68-cp311-cp311-manylinux_2_17_x86_64.manylinux2014_x86_64.whl (2.5 MB)\n",
            "\u001b[2K   \u001b[90m━━━━━━━━━━━━━━━━━━━━━━━━━━━━━━━━━━━━━━━━\u001b[0m \u001b[32m2.5/2.5 MB\u001b[0m \u001b[31m66.1 MB/s\u001b[0m eta \u001b[36m0:00:00\u001b[0m\n",
            "\u001b[?25hDownloading sorted_nearest-0.0.39-cp311-cp311-manylinux_2_17_x86_64.manylinux2014_x86_64.whl (6.2 MB)\n",
            "\u001b[2K   \u001b[90m━━━━━━━━━━━━━━━━━━━━━━━━━━━━━━━━━━━━━━━━\u001b[0m \u001b[32m6.2/6.2 MB\u001b[0m \u001b[31m99.0 MB/s\u001b[0m eta \u001b[36m0:00:00\u001b[0m\n",
            "\u001b[?25hBuilding wheels for collected packages: pybedtools\n",
            "  Building wheel for pybedtools (pyproject.toml) ... \u001b[?25l\u001b[?25hdone\n",
            "  Created wheel for pybedtools: filename=pybedtools-0.12.0-cp311-cp311-linux_x86_64.whl size=14261434 sha256=470785561f2cff9fecd952d5b898b0cbc3acd1aef918aaba908d991edb38632d\n",
            "  Stored in directory: /root/.cache/pip/wheels/95/62/57/e8c47c2a43884227b6644cf1d2dabf3162a0f40b9c1493c1f5\n",
            "Successfully built pybedtools\n",
            "Installing collected packages: sorted_nearest, pysam, ncls, biopython, pyranges, pybedtools, fuc\n",
            "Successfully installed biopython-1.85 fuc-0.38.0 ncls-0.0.68 pybedtools-0.12.0 pyranges-0.1.4 pysam-0.23.3 sorted_nearest-0.0.39\n",
            "Reading package lists... Done\n",
            "Building dependency tree... Done\n",
            "Reading state information... Done\n",
            "The following NEW packages will be installed:\n",
            "  bedtools\n",
            "0 upgraded, 1 newly installed, 0 to remove and 35 not upgraded.\n",
            "Need to get 563 kB of archives.\n",
            "After this operation, 1,548 kB of additional disk space will be used.\n",
            "Get:1 http://archive.ubuntu.com/ubuntu jammy-updates/universe amd64 bedtools amd64 2.30.0+dfsg-2ubuntu0.1 [563 kB]\n",
            "Fetched 563 kB in 0s (2,696 kB/s)\n",
            "Selecting previously unselected package bedtools.\n",
            "(Reading database ... 126319 files and directories currently installed.)\n",
            "Preparing to unpack .../bedtools_2.30.0+dfsg-2ubuntu0.1_amd64.deb ...\n",
            "Unpacking bedtools (2.30.0+dfsg-2ubuntu0.1) ...\n",
            "Setting up bedtools (2.30.0+dfsg-2ubuntu0.1) ...\n"
          ]
        }
      ]
    },
    {
      "cell_type": "code",
      "source": [
        "from Bio import SeqIO\n",
        "from Bio.Seq import Seq\n",
        "from Bio.Data import CodonTable\n",
        "from Bio import Entrez\n",
        "from Bio.SeqFeature import SeqFeature, FeatureLocation\n",
        "import pandas as pd\n",
        "import pybedtools\n",
        "import re\n",
        "from fuc import pybed"
      ],
      "metadata": {
        "id": "c8iidNA1IK0y"
      },
      "execution_count": 2,
      "outputs": []
    },
    {
      "cell_type": "code",
      "source": [
        "scaffolds = {}\n",
        "for scaffold in SeqIO.parse('/content/GCF_943734665.1_idAnoAquaMG_Q_19_genomic.fna', format='fasta'):\n",
        "    scaffolds[scaffold.id] = scaffold"
      ],
      "metadata": {
        "id": "M8zDoPCdILjx"
      },
      "execution_count": 3,
      "outputs": []
    },
    {
      "cell_type": "markdown",
      "source": [
        "# Получение протеома"
      ],
      "metadata": {
        "id": "twCAp3qvKJRz"
      }
    },
    {
      "cell_type": "code",
      "source": [
        "annotation_df = pd.read_csv('genomic.gff', sep='\\t', comment='#', header=None, names=[\n",
        "    \"scaffold\", \"source\", \"type\", \"start\", \"end\", \"score\", \"strand\", \"phase\", \"attributes\"\n",
        "])\n",
        "cds_df = annotation_df[annotation_df['type'] == 'CDS'].reset_index()"
      ],
      "metadata": {
        "id": "fze0ONknU38y"
      },
      "execution_count": 136,
      "outputs": []
    },
    {
      "cell_type": "code",
      "source": [
        "with open('proteins.fasta', 'w') as prot_file:\n",
        "    cur_transcript=None\n",
        "    cur_cds = Seq(\"\")\n",
        "    for index, row in cds_df.iterrows():\n",
        "        attrs = row['attributes'].split(';')\n",
        "        parent = attrs[1]\n",
        "        gene = attrs[5]\n",
        "        phase = 0\n",
        "        if parent != cur_transcript:\n",
        "            if index != 0:\n",
        "                if strand == '-':\n",
        "                    cur_cds = cur_cds.reverse_complement()\n",
        "                protein_seq = cur_cds.translate(to_stop=True)\n",
        "                prot_file.write(f'>{gene} scaffold={scaffold} strand={strand} {cur_transcript} \\n')\n",
        "                prot_file.write(f'{str(protein_seq)}\\n')\n",
        "\n",
        "            cur_transcript = parent\n",
        "            cur_cds = Seq(\"\")\n",
        "            strand = row['strand']\n",
        "            phase = int(row['phase'])\n",
        "            scaffold = row['scaffold']\n",
        "\n",
        "        beg = row['start'] - 1 + phase\n",
        "        end = row['end']\n",
        "        seq = scaffolds[scaffold].seq[beg:end]\n",
        "        cur_cds = cur_cds + seq\n",
        "\n",
        "    if strand == '-':\n",
        "        cur_cds = cur_cds.reverse_complement()\n",
        "    protein_seq = cur_cds.translate(to_stop=True)\n",
        "    prot_file.write(f'> {scaffold} {strand} {cur_transcript}\\n')\n",
        "    prot_file.write(f'{str(protein_seq)}\\n')"
      ],
      "metadata": {
        "id": "36BP0YSYNzFP"
      },
      "execution_count": 137,
      "outputs": []
    },
    {
      "cell_type": "markdown",
      "source": [
        "## Квадруплексы"
      ],
      "metadata": {
        "id": "WToUpyT-SPBv"
      }
    },
    {
      "cell_type": "code",
      "source": [
        "PQS = []\n",
        "PQS_minus = []\n",
        "pattern=\"(?:G{3,5}[ATGC]{1,7}){3,}G{3,5}\"\n",
        "pattern_minus=\"(?:C{3,5}[ATGC]{1,7}){3,}C{3,5}\"\n",
        "for scaffold, record in scaffolds.items():\n",
        "  name, sequence = record.id, str(record.seq)\n",
        "  PQS += [[name, m.start(),m.end(),m.group(0), name, '+'] for m in re.finditer(pattern,sequence,re.IGNORECASE)]\n",
        "for scaffold, record in scaffolds.items():\n",
        "  name, sequence = record.id, str(record.seq)\n",
        "  PQS_minus += [[name, m.start(),m.end(),m.group(0), name, '-'] for m in re.finditer(pattern_minus,sequence,re.IGNORECASE)]\n",
        "print(len(PQS))\n",
        "print(len(PQS_minus))"
      ],
      "metadata": {
        "colab": {
          "base_uri": "https://localhost:8080/"
        },
        "id": "mWeyCWvbSSAZ",
        "outputId": "a9fc1b56-2fff-4f7c-f0ea-94674a6015b0"
      },
      "execution_count": 138,
      "outputs": [
        {
          "output_type": "stream",
          "name": "stdout",
          "text": [
            "12803\n",
            "12883\n"
          ]
        }
      ]
    },
    {
      "cell_type": "code",
      "source": [
        "quadrs = pd.DataFrame(PQS+PQS_minus, columns=['Chromosome', 'Start', 'End', 'Sequence', 'Name', 'Strand'])"
      ],
      "metadata": {
        "id": "PhzaRCfkVZlX"
      },
      "execution_count": 132,
      "outputs": []
    },
    {
      "cell_type": "code",
      "source": [
        "bf = pybed.BedFrame.from_frame(meta=[], data=quadrs)\n",
        "bf.to_file('quadruplex.bed')"
      ],
      "metadata": {
        "id": "yftlQuztVwos"
      },
      "execution_count": 133,
      "outputs": []
    },
    {
      "cell_type": "markdown",
      "source": [
        "### Разбиение аннотации"
      ],
      "metadata": {
        "id": "dChAylD-azqb"
      }
    },
    {
      "cell_type": "code",
      "source": [
        "with open('scaffolds_sizes.txt', 'w') as out:\n",
        "    for scaffold in scaffolds:\n",
        "        scaffold_name = scaffold\n",
        "        scaffold_length = len(scaffolds[scaffold].seq)\n",
        "        out.write(f\"{scaffold_name}\\t{scaffold_length}\\n\")"
      ],
      "metadata": {
        "id": "8RAH_A3LWwIs"
      },
      "execution_count": 134,
      "outputs": []
    },
    {
      "cell_type": "code",
      "source": [
        "def add_introns(annotation_df):\n",
        "    introns = []\n",
        "    for gene in annotation_df[annotation_df['type'] == 'gene'].itertuples():\n",
        "        print(gene)\n",
        "        gene_exons = annotation_df[(annotation_df['type'] == 'exon') &\n",
        "                                   (annotation_df['scaffold'] == gene.scaffold) &\n",
        "                                   (annotation_df['start'] >= gene.start) &\n",
        "                                   (annotation_df['end'] <= gene.end)]\n",
        "        gene_exons = gene_exons.sort_values(by='start')\n",
        "        previous_exon_end = None\n",
        "        for exon in gene_exons.itertuples():\n",
        "            if previous_exon_end is not None:\n",
        "                intron_start = previous_exon_end + 1\n",
        "                intron_end = exon.start - 1\n",
        "                if intron_start < intron_end:\n",
        "                    introns.append({\n",
        "                        \"scaffold\": gene.scaffold,\n",
        "                        \"source\": \"predicted\",\n",
        "                        \"type\": \"intron\",\n",
        "                        \"start\": intron_start,\n",
        "                        \"end\": intron_end,\n",
        "                        \"score\": \".\",\n",
        "                        \"strand\": gene.strand,\n",
        "                        \"phase\": \".\",\n",
        "                        \"attributes\": gene.attributes\n",
        "                    })\n",
        "            previous_exon_end = exon.end\n",
        "\n",
        "    introns_df = pd.DataFrame(introns)\n",
        "    return pd.concat([annotation_df, introns_df], ignore_index=True)\n",
        "\n",
        "annotation_intron_df = add_introns(annotation_df)"
      ],
      "metadata": {
        "id": "DM3YCuencI3j",
        "colab": {
          "base_uri": "https://localhost:8080/",
          "height": 343
        },
        "outputId": "cf19dda2-4cc5-4f57-91ba-a567db75ca2a"
      },
      "execution_count": 135,
      "outputs": [
        {
          "output_type": "stream",
          "name": "stdout",
          "text": [
            "Pandas(Index=1, scaffold='NC_064876.1', start=971, end=6658, type='gene', name='ID=gene-LOC126572356;Dbxref=GeneID:126572356;Name=LOC126572356;description=uncharacterized', strand='-')\n"
          ]
        },
        {
          "output_type": "error",
          "ename": "AttributeError",
          "evalue": "'Pandas' object has no attribute 'attributes'",
          "traceback": [
            "\u001b[0;31m---------------------------------------------------------------------------\u001b[0m",
            "\u001b[0;31mAttributeError\u001b[0m                            Traceback (most recent call last)",
            "\u001b[0;32m/tmp/ipython-input-135-769143502.py\u001b[0m in \u001b[0;36m<cell line: 0>\u001b[0;34m()\u001b[0m\n\u001b[1;32m     30\u001b[0m     \u001b[0;32mreturn\u001b[0m \u001b[0mpd\u001b[0m\u001b[0;34m.\u001b[0m\u001b[0mconcat\u001b[0m\u001b[0;34m(\u001b[0m\u001b[0;34m[\u001b[0m\u001b[0mannotation_df\u001b[0m\u001b[0;34m,\u001b[0m \u001b[0mintrons_df\u001b[0m\u001b[0;34m]\u001b[0m\u001b[0;34m,\u001b[0m \u001b[0mignore_index\u001b[0m\u001b[0;34m=\u001b[0m\u001b[0;32mTrue\u001b[0m\u001b[0;34m)\u001b[0m\u001b[0;34m\u001b[0m\u001b[0;34m\u001b[0m\u001b[0m\n\u001b[1;32m     31\u001b[0m \u001b[0;34m\u001b[0m\u001b[0m\n\u001b[0;32m---> 32\u001b[0;31m \u001b[0mannotation_intron_df\u001b[0m \u001b[0;34m=\u001b[0m \u001b[0madd_introns\u001b[0m\u001b[0;34m(\u001b[0m\u001b[0mannotation_df\u001b[0m\u001b[0;34m)\u001b[0m\u001b[0;34m\u001b[0m\u001b[0;34m\u001b[0m\u001b[0m\n\u001b[0m",
            "\u001b[0;32m/tmp/ipython-input-135-769143502.py\u001b[0m in \u001b[0;36madd_introns\u001b[0;34m(annotation_df)\u001b[0m\n\u001b[1;32m     23\u001b[0m                         \u001b[0;34m\"strand\"\u001b[0m\u001b[0;34m:\u001b[0m \u001b[0mgene\u001b[0m\u001b[0;34m.\u001b[0m\u001b[0mstrand\u001b[0m\u001b[0;34m,\u001b[0m\u001b[0;34m\u001b[0m\u001b[0;34m\u001b[0m\u001b[0m\n\u001b[1;32m     24\u001b[0m                         \u001b[0;34m\"phase\"\u001b[0m\u001b[0;34m:\u001b[0m \u001b[0;34m\".\"\u001b[0m\u001b[0;34m,\u001b[0m\u001b[0;34m\u001b[0m\u001b[0;34m\u001b[0m\u001b[0m\n\u001b[0;32m---> 25\u001b[0;31m                         \u001b[0;34m\"attributes\"\u001b[0m\u001b[0;34m:\u001b[0m \u001b[0mgene\u001b[0m\u001b[0;34m.\u001b[0m\u001b[0mattributes\u001b[0m\u001b[0;34m\u001b[0m\u001b[0;34m\u001b[0m\u001b[0m\n\u001b[0m\u001b[1;32m     26\u001b[0m                     })\n\u001b[1;32m     27\u001b[0m             \u001b[0mprevious_exon_end\u001b[0m \u001b[0;34m=\u001b[0m \u001b[0mexon\u001b[0m\u001b[0;34m.\u001b[0m\u001b[0mend\u001b[0m\u001b[0;34m\u001b[0m\u001b[0;34m\u001b[0m\u001b[0m\n",
            "\u001b[0;31mAttributeError\u001b[0m: 'Pandas' object has no attribute 'attributes'"
          ]
        }
      ]
    },
    {
      "cell_type": "code",
      "source": [
        "!awk '{if($1 !~ /^#/ ) print $1\"\\t\"$4-1\"\\t\"$5\"\\t\"$3\"\\t\"$9\"\\t\"$7}' genomic.gff > annotation.bed"
      ],
      "metadata": {
        "id": "wGs1OdMoYRYD"
      },
      "execution_count": 139,
      "outputs": []
    },
    {
      "cell_type": "code",
      "source": [
        "!head annotation.bed"
      ],
      "metadata": {
        "colab": {
          "base_uri": "https://localhost:8080/"
        },
        "id": "thabptThYXgy",
        "outputId": "365c71ee-c4f0-4277-85d6-1ce81b4e9343"
      },
      "execution_count": 140,
      "outputs": [
        {
          "output_type": "stream",
          "name": "stdout",
          "text": [
            "NC_064876.1\t0\t8489435\tregion\tID=NC_064876.1:1..8489435;Dbxref=taxon:42839;Name=X;chromosome=X;gbkey=Src;genome=chromosome;mol_type=genomic\t+\n",
            "NC_064876.1\t971\t6658\tgene\tID=gene-LOC126572356;Dbxref=GeneID:126572356;Name=LOC126572356;description=uncharacterized\t-\n",
            "NC_064876.1\t971\t6513\ttranscript\tID=rna-XR_007607957.1;Parent=gene-LOC126572356;Dbxref=GeneID:126572356,Genbank:XR_007607957.1;Name=XR_007607957.1;experiment=COORDINATES:\t-\n",
            "NC_064876.1\t6387\t6513\texon\tID=exon-XR_007607957.1-1;Parent=rna-XR_007607957.1;Dbxref=GeneID:126572356,Genbank:XR_007607957.1;experiment=COORDINATES:\t-\n",
            "NC_064876.1\t1904\t2044\texon\tID=exon-XR_007607957.1-2;Parent=rna-XR_007607957.1;Dbxref=GeneID:126572356,Genbank:XR_007607957.1;experiment=COORDINATES:\t-\n",
            "NC_064876.1\t1696\t1836\texon\tID=exon-XR_007607957.1-3;Parent=rna-XR_007607957.1;Dbxref=GeneID:126572356,Genbank:XR_007607957.1;experiment=COORDINATES:\t-\n",
            "NC_064876.1\t1488\t1628\texon\tID=exon-XR_007607957.1-4;Parent=rna-XR_007607957.1;Dbxref=GeneID:126572356,Genbank:XR_007607957.1;experiment=COORDINATES:\t-\n",
            "NC_064876.1\t1280\t1420\texon\tID=exon-XR_007607957.1-5;Parent=rna-XR_007607957.1;Dbxref=GeneID:126572356,Genbank:XR_007607957.1;experiment=COORDINATES:\t-\n",
            "NC_064876.1\t971\t1212\texon\tID=exon-XR_007607957.1-6;Parent=rna-XR_007607957.1;Dbxref=GeneID:126572356,Genbank:XR_007607957.1;experiment=COORDINATES:\t-\n",
            "NC_064876.1\t971\t6658\tmRNA\tID=rna-XM_050231609.1;Parent=gene-LOC126572356;Dbxref=GeneID:126572356,Genbank:XM_050231609.1;Name=XM_050231609.1;experiment=COORDINATES:\t-\n"
          ]
        }
      ]
    },
    {
      "cell_type": "code",
      "source": [
        "!awk '$4 == \"exon\"' annotation.bed > exons.bed\n",
        "!sort -k1,1 -k2,2n exons.bed > exons_sorted.bed\n",
        "!bedtools merge -i exons_sorted.bed -c 4,5,6 -o distinct > exons.bed\n",
        "!head exons.bed"
      ],
      "metadata": {
        "id": "3c-238_IZRvQ",
        "colab": {
          "base_uri": "https://localhost:8080/"
        },
        "outputId": "1f2a7b96-c6aa-4e2d-e30e-c838f1044048"
      },
      "execution_count": 141,
      "outputs": [
        {
          "output_type": "stream",
          "name": "stdout",
          "text": [
            "NC_064876.1\t971\t1212\texon\tID=exon-XM_050231609.1-3;Parent=rna-XM_050231609.1;Dbxref=GeneID:126572356,Genbank:XM_050231609.1;experiment=COORDINATES:,ID=exon-XM_050231617.1-6;Parent=rna-XM_050231617.1;Dbxref=GeneID:126572356,Genbank:XM_050231617.1;experiment=COORDINATES:,ID=exon-XM_050231625.1-6;Parent=rna-XM_050231625.1;Dbxref=GeneID:126572356,Genbank:XM_050231625.1;experiment=COORDINATES:,ID=exon-XM_050231634.1-5;Parent=rna-XM_050231634.1;Dbxref=GeneID:126572356,Genbank:XM_050231634.1;experiment=COORDINATES:,ID=exon-XR_007607957.1-6;Parent=rna-XR_007607957.1;Dbxref=GeneID:126572356,Genbank:XR_007607957.1;experiment=COORDINATES:\t-\n",
            "NC_064876.1\t1243\t1420\texon\tID=exon-XM_050231602.1-3;Parent=rna-XM_050231602.1;Dbxref=GeneID:126572356,Genbank:XM_050231602.1;gbkey=mRNA;gene=LOC126572356;product=uncharacterized,ID=exon-XM_050231617.1-5;Parent=rna-XM_050231617.1;Dbxref=GeneID:126572356,Genbank:XM_050231617.1;experiment=COORDINATES:,ID=exon-XM_050231625.1-5;Parent=rna-XM_050231625.1;Dbxref=GeneID:126572356,Genbank:XM_050231625.1;experiment=COORDINATES:,ID=exon-XM_050231634.1-4;Parent=rna-XM_050231634.1;Dbxref=GeneID:126572356,Genbank:XM_050231634.1;experiment=COORDINATES:,ID=exon-XR_007607957.1-5;Parent=rna-XR_007607957.1;Dbxref=GeneID:126572356,Genbank:XR_007607957.1;experiment=COORDINATES:\t-\n",
            "NC_064876.1\t1488\t1628\texon\tID=exon-XM_050231617.1-4;Parent=rna-XM_050231617.1;Dbxref=GeneID:126572356,Genbank:XM_050231617.1;experiment=COORDINATES:,ID=exon-XM_050231625.1-4;Parent=rna-XM_050231625.1;Dbxref=GeneID:126572356,Genbank:XM_050231625.1;experiment=COORDINATES:,ID=exon-XR_007607957.1-4;Parent=rna-XR_007607957.1;Dbxref=GeneID:126572356,Genbank:XR_007607957.1;experiment=COORDINATES:\t-\n",
            "NC_064876.1\t1696\t1836\texon\tID=exon-XM_050231602.1-2;Parent=rna-XM_050231602.1;Dbxref=GeneID:126572356,Genbank:XM_050231602.1;gbkey=mRNA;gene=LOC126572356;product=uncharacterized,ID=exon-XM_050231609.1-2;Parent=rna-XM_050231609.1;Dbxref=GeneID:126572356,Genbank:XM_050231609.1;experiment=COORDINATES:,ID=exon-XM_050231617.1-3;Parent=rna-XM_050231617.1;Dbxref=GeneID:126572356,Genbank:XM_050231617.1;experiment=COORDINATES:,ID=exon-XM_050231625.1-3;Parent=rna-XM_050231625.1;Dbxref=GeneID:126572356,Genbank:XM_050231625.1;experiment=COORDINATES:,ID=exon-XM_050231634.1-3;Parent=rna-XM_050231634.1;Dbxref=GeneID:126572356,Genbank:XM_050231634.1;experiment=COORDINATES:,ID=exon-XR_007607957.1-3;Parent=rna-XR_007607957.1;Dbxref=GeneID:126572356,Genbank:XR_007607957.1;experiment=COORDINATES:\t-\n",
            "NC_064876.1\t1904\t2044\texon\tID=exon-XM_050231617.1-2;Parent=rna-XM_050231617.1;Dbxref=GeneID:126572356,Genbank:XM_050231617.1;experiment=COORDINATES:,ID=exon-XM_050231625.1-2;Parent=rna-XM_050231625.1;Dbxref=GeneID:126572356,Genbank:XM_050231625.1;experiment=COORDINATES:,ID=exon-XM_050231634.1-2;Parent=rna-XM_050231634.1;Dbxref=GeneID:126572356,Genbank:XM_050231634.1;experiment=COORDINATES:,ID=exon-XR_007607957.1-2;Parent=rna-XR_007607957.1;Dbxref=GeneID:126572356,Genbank:XR_007607957.1;experiment=COORDINATES:\t-\n",
            "NC_064876.1\t2709\t2844\texon\tID=exon-XM_050231617.1-1;Parent=rna-XM_050231617.1;Dbxref=GeneID:126572356,Genbank:XM_050231617.1;experiment=COORDINATES:,ID=exon-XM_050231625.1-1;Parent=rna-XM_050231625.1;Dbxref=GeneID:126572356,Genbank:XM_050231625.1;experiment=COORDINATES:,ID=exon-XM_050231634.1-1;Parent=rna-XM_050231634.1;Dbxref=GeneID:126572356,Genbank:XM_050231634.1;experiment=COORDINATES:\t-\n",
            "NC_064876.1\t6001\t6265\texon\tID=exon-XM_050231589.1-1;Parent=rna-XM_050231589.1;Dbxref=GeneID:126572333,Genbank:XM_050231589.1;gbkey=mRNA;gene=LOC126572333;product=uncharacterized\t+\n",
            "NC_064876.1\t6387\t6658\texon\tID=exon-XM_050231602.1-1;Parent=rna-XM_050231602.1;Dbxref=GeneID:126572356,Genbank:XM_050231602.1;gbkey=mRNA;gene=LOC126572356;product=uncharacterized,ID=exon-XM_050231609.1-1;Parent=rna-XM_050231609.1;Dbxref=GeneID:126572356,Genbank:XM_050231609.1;experiment=COORDINATES:,ID=exon-XR_007607957.1-1;Parent=rna-XR_007607957.1;Dbxref=GeneID:126572356,Genbank:XR_007607957.1;experiment=COORDINATES:\t-\n",
            "NC_064876.1\t11641\t11871\texon\tID=exon-XM_050231564.1-1;Parent=rna-XM_050231564.1;Dbxref=GeneID:126572333,Genbank:XM_050231564.1;gbkey=mRNA;gene=LOC126572333;product=uncharacterized,ID=exon-XM_050231580.1-1;Parent=rna-XM_050231580.1;Dbxref=GeneID:126572333,Genbank:XM_050231580.1;gbkey=mRNA;gene=LOC126572333;product=uncharacterized\t+\n",
            "NC_064876.1\t12132\t12460\texon\tID=exon-XM_050231572.1-1;Parent=rna-XM_050231572.1;Dbxref=GeneID:126572333,Genbank:XM_050231572.1;gbkey=mRNA;gene=LOC126572333;product=uncharacterized,ID=exon-XM_050231580.1-2;Parent=rna-XM_050231580.1;Dbxref=GeneID:126572333,Genbank:XM_050231580.1;gbkey=mRNA;gene=LOC126572333;product=uncharacterized\t+\n"
          ]
        }
      ]
    },
    {
      "cell_type": "code",
      "source": [
        "! awk '$3 == \"gene\"' genomic.gtf > genes.gtf\n",
        "! awk '$3 == \"exon\"' genomic.gtf > exons.gtf\n",
        "\n",
        "! bedtools subtract -a genes.gtf -b exons.gtf > introns.gtf\n",
        "! awk '$3 == \"intron\" {print $1 \"\\t\" $4-1 \"\\t\" $5 \"\\t\" $9}' introns.gtf > introns.bed"
      ],
      "metadata": {
        "id": "coHyXI-iEEow"
      },
      "execution_count": 145,
      "outputs": []
    },
    {
      "cell_type": "code",
      "source": [
        "annotation_intron_df[['scaffold', 'start', 'end', 'type', 'scaffold', 'strand']].to_csv('annotation.bed', header=None, index=False, sep='\\t')"
      ],
      "metadata": {
        "id": "EEAooqTGh5-L"
      },
      "execution_count": 146,
      "outputs": []
    },
    {
      "cell_type": "code",
      "source": [
        "!awk '$4 == \"intron\"' annotation.bed > introns.bed\n",
        "!sort -k1,1 -k2,2n introns.bed > introns_sorted.bed\n",
        "!bedtools merge -i introns_sorted.bed -c 4,5,6 -o distinct > introns.bed\n",
        "!head introns.bed"
      ],
      "metadata": {
        "id": "lZK_WDaCZ9pW",
        "colab": {
          "base_uri": "https://localhost:8080/"
        },
        "outputId": "d753b0e8-ff37-4ad7-f489-e8bf010982c2"
      },
      "execution_count": 147,
      "outputs": [
        {
          "output_type": "stream",
          "name": "stdout",
          "text": [
            "NC_064876.1\t1213\t1243\tintron\tNC_064876.1\t-\n",
            "NC_064876.1\t1421\t1488\tintron\tNC_064876.1\t-\n",
            "NC_064876.1\t1629\t1696\tintron\tNC_064876.1\t-\n",
            "NC_064876.1\t1837\t1904\tintron\tNC_064876.1\t-\n",
            "NC_064876.1\t2045\t2709\tintron\tNC_064876.1\t-\n",
            "NC_064876.1\t2845\t6001\tintron\tNC_064876.1\t-\n",
            "NC_064876.1\t6266\t6387\tintron\tNC_064876.1\t+,-\n",
            "NC_064876.1\t6659\t11641\tintron\tNC_064876.1\t+\n",
            "NC_064876.1\t11872\t12132\tintron\tNC_064876.1\t+\n",
            "NC_064876.1\t12461\t12518\tintron\tNC_064876.1\t+\n"
          ]
        }
      ]
    },
    {
      "cell_type": "code",
      "source": [
        "!awk '{if($1 !~ /^#/ ) print $1\"\\t\"$4-1\"\\t\"$5\"\\t\"$3\"\\t\"$9\"\\t\"$7}' genomic.gff > annotation.bed"
      ],
      "metadata": {
        "id": "KFLJm2_wh8Sn"
      },
      "execution_count": 148,
      "outputs": []
    },
    {
      "cell_type": "code",
      "source": [
        "!head introns.bed"
      ],
      "metadata": {
        "colab": {
          "base_uri": "https://localhost:8080/"
        },
        "id": "ugANEbBh9Xeg",
        "outputId": "791fdfea-48a2-48d7-bc54-e0d133162f7f"
      },
      "execution_count": 100,
      "outputs": [
        {
          "output_type": "stream",
          "name": "stdout",
          "text": [
            "NC_064876.1\t1213\t1243\tintron\tNC_064876.1\t-\n",
            "NC_064876.1\t1421\t1488\tintron\tNC_064876.1\t-\n",
            "NC_064876.1\t1629\t1696\tintron\tNC_064876.1\t-\n",
            "NC_064876.1\t1837\t1904\tintron\tNC_064876.1\t-\n",
            "NC_064876.1\t2045\t2709\tintron\tNC_064876.1\t-\n",
            "NC_064876.1\t2845\t6001\tintron\tNC_064876.1\t-\n",
            "NC_064876.1\t6266\t6387\tintron\tNC_064876.1\t+,-\n",
            "NC_064876.1\t6659\t11641\tintron\tNC_064876.1\t+\n",
            "NC_064876.1\t11872\t12132\tintron\tNC_064876.1\t+\n",
            "NC_064876.1\t12461\t12518\tintron\tNC_064876.1\t+\n"
          ]
        }
      ]
    },
    {
      "cell_type": "markdown",
      "source": [
        "Гены"
      ],
      "metadata": {
        "id": "GAKRCSPnZ5fu"
      }
    },
    {
      "cell_type": "code",
      "source": [
        "!awk 'BEGIN{OFS=\"\\t\"} {if ($4 == \"gene\") {print $1, $2, $3, $4, $5, $6}}' annotation.bed > genes.bed"
      ],
      "metadata": {
        "id": "Nf0sf5EnZs4g"
      },
      "execution_count": 149,
      "outputs": []
    },
    {
      "cell_type": "code",
      "source": [
        "!bedtools complement -i genes.bed -g scaffolds_sizes.txt > intergenic.bed"
      ],
      "metadata": {
        "id": "P_xHNiEiqqEE"
      },
      "execution_count": 150,
      "outputs": []
    },
    {
      "cell_type": "markdown",
      "source": [
        "Промоторы"
      ],
      "metadata": {
        "id": "vkBLYp4CagXC"
      }
    },
    {
      "cell_type": "code",
      "source": [
        "!bedtools flank -i genes.bed -g scaffolds_sizes.txt -l 1000 -r 0 -s > promoters.bed"
      ],
      "metadata": {
        "id": "nul9heITZygI"
      },
      "execution_count": 151,
      "outputs": []
    },
    {
      "cell_type": "markdown",
      "source": [
        "Downstream"
      ],
      "metadata": {
        "id": "mUGpXfv4anrx"
      }
    },
    {
      "cell_type": "code",
      "source": [
        "!bedtools flank -i genes.bed -g scaffolds_sizes.txt -l 0 -r 200 -s  > downstream.bed"
      ],
      "metadata": {
        "id": "imsuSSn0apMH"
      },
      "execution_count": 152,
      "outputs": []
    },
    {
      "cell_type": "markdown",
      "source": [
        "### Пересечение с квадруплексами"
      ],
      "metadata": {
        "id": "OBKfidAsaxhN"
      }
    },
    {
      "cell_type": "code",
      "source": [
        "!cat exons.bed | wc -l\n",
        "!cat introns.bed | wc -l\n",
        "!cat promoters.bed | wc -l\n",
        "!cat downstream.bed | wc -l\n",
        "!cat intergenic.bed | wc -l"
      ],
      "metadata": {
        "colab": {
          "base_uri": "https://localhost:8080/"
        },
        "id": "EtsH83MyxdP3",
        "outputId": "a6f81d7a-89fb-48a2-df33-07b5866a22c8"
      },
      "execution_count": 177,
      "outputs": [
        {
          "output_type": "stream",
          "name": "stdout",
          "text": [
            "60320\n",
            "49547\n",
            "12876\n",
            "12874\n",
            "10992\n"
          ]
        }
      ]
    },
    {
      "cell_type": "code",
      "source": [
        "!bedtools intersect -a quadruplex.bed -b exons.bed -wa -s | wc -l\n",
        "!bedtools intersect -a quadruplex.bed -b introns.bed -wa -s | wc -l\n",
        "!bedtools intersect -a quadruplex.bed -b promoters.bed -wa -s | wc -l\n",
        "!bedtools intersect -a quadruplex.bed -b downstream.bed -wa -s | wc -l\n",
        "!bedtools intersect -a quadruplex.bed -b intergenic.bed -wa | wc -l"
      ],
      "metadata": {
        "id": "Bwt350ZVa48E",
        "colab": {
          "base_uri": "https://localhost:8080/"
        },
        "outputId": "068ff14d-37d1-44ee-af3c-137c5e058b1d"
      },
      "execution_count": 178,
      "outputs": [
        {
          "output_type": "stream",
          "name": "stdout",
          "text": [
            "591\n",
            "6858\n",
            "574\n",
            "186\n",
            "9864\n"
          ]
        }
      ]
    },
    {
      "cell_type": "code",
      "source": [
        "591 / 60320, 6858 / 49547, 574 / 12876, 186 / 12874, 9864 / 10992"
      ],
      "metadata": {
        "colab": {
          "base_uri": "https://localhost:8080/"
        },
        "id": "1H4iGRlTxkwb",
        "outputId": "b80a73b9-9edc-41e0-9db4-eac47032f6f3"
      },
      "execution_count": 179,
      "outputs": [
        {
          "output_type": "execute_result",
          "data": {
            "text/plain": [
              "(0.009797745358090186,\n",
              " 0.13841403112196501,\n",
              " 0.04457906182044113,\n",
              " 0.014447724095075345,\n",
              " 0.8973799126637555)"
            ]
          },
          "metadata": {},
          "execution_count": 179
        }
      ]
    },
    {
      "cell_type": "markdown",
      "source": [
        "### Кол-во участков с квадруплексами"
      ],
      "metadata": {
        "id": "Hpov8HSFp8OH"
      }
    },
    {
      "cell_type": "code",
      "source": [
        "!bedtools intersect -a quadruplex.bed -b exons.bed -wb -s > exons_with_quadruplex_all.bed\n",
        "!sort -u exons_with_quadruplex_all.bed > exons_with_quadr.bed\n",
        "!cat exons_with_quadr.bed | wc -l\n",
        "!cat exons.bed | wc -l\n",
        "!echo\n",
        "!bedtools intersect -a quadruplex.bed -b introns.bed -wb -s > introns_with_quadruplex_all.bed\n",
        "!sort -u introns_with_quadruplex_all.bed > introns_with_quadr.bed\n",
        "!cat introns_with_quadr.bed | wc -l\n",
        "!cat introns.bed | wc -l\n",
        "!echo\n",
        "!bedtools intersect -a quadruplex.bed -b promoters.bed -wb -s > promoters_with_quadruplex_all.bed\n",
        "!sort -u promoters_with_quadruplex_all.bed > promoters_with_quadr.bed\n",
        "!cat promoters_with_quadr.bed | wc -l\n",
        "!cat promoters.bed | wc -l\n",
        "!echo\n",
        "!bedtools intersect -a quadruplex.bed -b downstream.bed -wb -s > downstream_with_quadruplex_all.bed\n",
        "!sort -u downstream_with_quadruplex_all.bed > downstream_with_quadr.bed\n",
        "!cat downstream_with_quadr.bed | wc -l\n",
        "!cat downstream.bed | wc -l\n",
        "!echo\n",
        "!bedtools intersect -a quadruplex.bed -b intergenic.bed -wb > intergenic_with_quadruplex_all.bed\n",
        "!sort -u intergenic_with_quadruplex_all.bed > intergenic_with_quadr.bed\n",
        "!cat intergenic_with_quadr.bed | wc -l\n",
        "!cat intergenic.bed | wc -l"
      ],
      "metadata": {
        "colab": {
          "base_uri": "https://localhost:8080/"
        },
        "id": "YnzBNXw6kor7",
        "outputId": "85dc430a-94b1-4f46-ac50-2d07fe8ff687"
      },
      "execution_count": 157,
      "outputs": [
        {
          "output_type": "stream",
          "name": "stdout",
          "text": [
            "591\n",
            "60320\n",
            "\n",
            "6858\n",
            "49547\n",
            "\n",
            "574\n",
            "12876\n",
            "\n",
            "186\n",
            "12874\n",
            "\n",
            "9864\n",
            "10992\n"
          ]
        }
      ]
    },
    {
      "cell_type": "markdown",
      "source": [
        "## Z-Hunt"
      ],
      "metadata": {
        "id": "Zk9dcXRZMLIJ"
      }
    },
    {
      "cell_type": "markdown",
      "source": [
        "Я запускал z-hunt локально в несколько потоков для ускорения получения результата, сейчас лишь подргузим файл с результатом. В файле на этапе работы zhunt я уже оставлял только хиты с z-score > 400 дабы файл не нужно было очищать"
      ],
      "metadata": {
        "id": "dOaD6iqeIWHl"
      }
    },
    {
      "cell_type": "markdown",
      "source": [
        "### Преобразование в bed формат"
      ],
      "metadata": {
        "id": "LvR7xUXL3I8r"
      }
    },
    {
      "cell_type": "code",
      "source": [
        "zscore_file = 'zscore_backup_small'\n",
        "chunks = pd.read_csv(zscore_file,\n",
        "              skiprows=1,\n",
        "              names=[\"start\",\"end\",\"3\",\"4\",\"5\",\"score\",\"seq\",\"8\"],\n",
        "              delim_whitespace=True,\n",
        "              chunksize=10000)\n",
        "filtered_df = pd.concat(chunks, ignore_index=True)\n",
        "zhunt_df = filtered_df"
      ],
      "metadata": {
        "colab": {
          "base_uri": "https://localhost:8080/"
        },
        "id": "iQ-jYz_Bejul",
        "outputId": "0a653e50-6af7-4a9c-cdc1-8bebdffc7e90"
      },
      "execution_count": 158,
      "outputs": [
        {
          "output_type": "stream",
          "name": "stderr",
          "text": [
            "/tmp/ipython-input-158-758813473.py:2: FutureWarning: The 'delim_whitespace' keyword in pd.read_csv is deprecated and will be removed in a future version. Use ``sep='\\s+'`` instead\n",
            "  chunks = pd.read_csv(zscore_file,\n"
          ]
        }
      ]
    },
    {
      "cell_type": "code",
      "source": [
        "zhunt_sorted = zhunt_df.sort_values(by=['start'])\n",
        "zhunt_sorted[1] = 'genome'\n",
        "zhunt_sorted[[1, 'start', 'end', 'score', 'seq']].to_csv('zscore_sorted.bed', sep='\\t', header=None, index=False)"
      ],
      "metadata": {
        "id": "5whmHhkD623h"
      },
      "execution_count": 159,
      "outputs": []
    },
    {
      "cell_type": "code",
      "source": [
        "!bedtools merge -i zscore_sorted.bed > zscore_merged.bed"
      ],
      "metadata": {
        "id": "TWyZcOcI7rek"
      },
      "execution_count": 160,
      "outputs": []
    },
    {
      "cell_type": "code",
      "source": [
        "zhunt_coords = pd.read_csv('zscore_merged.bed', sep='\\t', names=['place', 'start', 'end'])"
      ],
      "metadata": {
        "id": "qGS2Q3zxAKU1"
      },
      "execution_count": 161,
      "outputs": []
    },
    {
      "cell_type": "markdown",
      "source": [
        "### Разметка по скаффолдам"
      ],
      "metadata": {
        "id": "JMs5S-05Ad9U"
      }
    },
    {
      "cell_type": "code",
      "source": [
        "annotation_df = pd.read_csv('annotation.bed', names=['scaffold', 'start', 'end', 'type', 'name', 'strand'], sep='\\t', header=None)\n",
        "region_df = annotation_df[annotation_df['type'] == 'region'].reset_index(drop=True)\n",
        "region_df['global_end'] = region_df['end'].cumsum()\n",
        "\n",
        "i_scaffold = 0\n",
        "scaffold_start = 1\n",
        "scaffold_end =  176590975\n",
        "scaffold = 'NC_064876.1'\n",
        "\n",
        "corrected_records = []\n",
        "\n",
        "for index, row in zhunt_coords.iterrows():\n",
        "    zdna_start = row['start']\n",
        "    zdna_end = row['end']\n",
        "    if zdna_start > scaffold_end:\n",
        "        i_scaffold += 1\n",
        "    if i_scaffold > 0:\n",
        "        prev_cumulative_end = region_df.iloc[i_scaffold - 1]['global_end']\n",
        "        scaffold_end = region_df.iloc[i_scaffold]['global_end']\n",
        "        scaffold = region_df.iloc[i_scaffold]['scaffold']\n",
        "    else:\n",
        "        prev_cumulative_end = 0\n",
        "    corrected_start = zdna_start - prev_cumulative_end\n",
        "    corrected_end = zdna_end - prev_cumulative_end\n",
        "    corrected_records.append({\n",
        "            'scaffold': scaffold,\n",
        "            'start': corrected_start,\n",
        "            'end': corrected_end,\n",
        "        })\n",
        "\n",
        "corrected_zhunt_df = pd.DataFrame(corrected_records)\n",
        "corrected_zhunt_df.head()"
      ],
      "metadata": {
        "colab": {
          "base_uri": "https://localhost:8080/",
          "height": 206
        },
        "id": "c84MptxPIhHK",
        "outputId": "7b359cca-6a94-45aa-aeb3-06e59843346a"
      },
      "execution_count": 162,
      "outputs": [
        {
          "output_type": "execute_result",
          "data": {
            "text/plain": [
              "      scaffold  start   end\n",
              "0  NC_064876.1   1207  1244\n",
              "1  NC_064876.1   1415  1452\n",
              "2  NC_064876.1   1623  1660\n",
              "3  NC_064876.1   1831  1868\n",
              "4  NC_064876.1   2039  2076"
            ],
            "text/html": [
              "\n",
              "  <div id=\"df-96a19540-ed28-4a7a-b790-680ad038e27f\" class=\"colab-df-container\">\n",
              "    <div>\n",
              "<style scoped>\n",
              "    .dataframe tbody tr th:only-of-type {\n",
              "        vertical-align: middle;\n",
              "    }\n",
              "\n",
              "    .dataframe tbody tr th {\n",
              "        vertical-align: top;\n",
              "    }\n",
              "\n",
              "    .dataframe thead th {\n",
              "        text-align: right;\n",
              "    }\n",
              "</style>\n",
              "<table border=\"1\" class=\"dataframe\">\n",
              "  <thead>\n",
              "    <tr style=\"text-align: right;\">\n",
              "      <th></th>\n",
              "      <th>scaffold</th>\n",
              "      <th>start</th>\n",
              "      <th>end</th>\n",
              "    </tr>\n",
              "  </thead>\n",
              "  <tbody>\n",
              "    <tr>\n",
              "      <th>0</th>\n",
              "      <td>NC_064876.1</td>\n",
              "      <td>1207</td>\n",
              "      <td>1244</td>\n",
              "    </tr>\n",
              "    <tr>\n",
              "      <th>1</th>\n",
              "      <td>NC_064876.1</td>\n",
              "      <td>1415</td>\n",
              "      <td>1452</td>\n",
              "    </tr>\n",
              "    <tr>\n",
              "      <th>2</th>\n",
              "      <td>NC_064876.1</td>\n",
              "      <td>1623</td>\n",
              "      <td>1660</td>\n",
              "    </tr>\n",
              "    <tr>\n",
              "      <th>3</th>\n",
              "      <td>NC_064876.1</td>\n",
              "      <td>1831</td>\n",
              "      <td>1868</td>\n",
              "    </tr>\n",
              "    <tr>\n",
              "      <th>4</th>\n",
              "      <td>NC_064876.1</td>\n",
              "      <td>2039</td>\n",
              "      <td>2076</td>\n",
              "    </tr>\n",
              "  </tbody>\n",
              "</table>\n",
              "</div>\n",
              "    <div class=\"colab-df-buttons\">\n",
              "\n",
              "  <div class=\"colab-df-container\">\n",
              "    <button class=\"colab-df-convert\" onclick=\"convertToInteractive('df-96a19540-ed28-4a7a-b790-680ad038e27f')\"\n",
              "            title=\"Convert this dataframe to an interactive table.\"\n",
              "            style=\"display:none;\">\n",
              "\n",
              "  <svg xmlns=\"http://www.w3.org/2000/svg\" height=\"24px\" viewBox=\"0 -960 960 960\">\n",
              "    <path d=\"M120-120v-720h720v720H120Zm60-500h600v-160H180v160Zm220 220h160v-160H400v160Zm0 220h160v-160H400v160ZM180-400h160v-160H180v160Zm440 0h160v-160H620v160ZM180-180h160v-160H180v160Zm440 0h160v-160H620v160Z\"/>\n",
              "  </svg>\n",
              "    </button>\n",
              "\n",
              "  <style>\n",
              "    .colab-df-container {\n",
              "      display:flex;\n",
              "      gap: 12px;\n",
              "    }\n",
              "\n",
              "    .colab-df-convert {\n",
              "      background-color: #E8F0FE;\n",
              "      border: none;\n",
              "      border-radius: 50%;\n",
              "      cursor: pointer;\n",
              "      display: none;\n",
              "      fill: #1967D2;\n",
              "      height: 32px;\n",
              "      padding: 0 0 0 0;\n",
              "      width: 32px;\n",
              "    }\n",
              "\n",
              "    .colab-df-convert:hover {\n",
              "      background-color: #E2EBFA;\n",
              "      box-shadow: 0px 1px 2px rgba(60, 64, 67, 0.3), 0px 1px 3px 1px rgba(60, 64, 67, 0.15);\n",
              "      fill: #174EA6;\n",
              "    }\n",
              "\n",
              "    .colab-df-buttons div {\n",
              "      margin-bottom: 4px;\n",
              "    }\n",
              "\n",
              "    [theme=dark] .colab-df-convert {\n",
              "      background-color: #3B4455;\n",
              "      fill: #D2E3FC;\n",
              "    }\n",
              "\n",
              "    [theme=dark] .colab-df-convert:hover {\n",
              "      background-color: #434B5C;\n",
              "      box-shadow: 0px 1px 3px 1px rgba(0, 0, 0, 0.15);\n",
              "      filter: drop-shadow(0px 1px 2px rgba(0, 0, 0, 0.3));\n",
              "      fill: #FFFFFF;\n",
              "    }\n",
              "  </style>\n",
              "\n",
              "    <script>\n",
              "      const buttonEl =\n",
              "        document.querySelector('#df-96a19540-ed28-4a7a-b790-680ad038e27f button.colab-df-convert');\n",
              "      buttonEl.style.display =\n",
              "        google.colab.kernel.accessAllowed ? 'block' : 'none';\n",
              "\n",
              "      async function convertToInteractive(key) {\n",
              "        const element = document.querySelector('#df-96a19540-ed28-4a7a-b790-680ad038e27f');\n",
              "        const dataTable =\n",
              "          await google.colab.kernel.invokeFunction('convertToInteractive',\n",
              "                                                    [key], {});\n",
              "        if (!dataTable) return;\n",
              "\n",
              "        const docLinkHtml = 'Like what you see? Visit the ' +\n",
              "          '<a target=\"_blank\" href=https://colab.research.google.com/notebooks/data_table.ipynb>data table notebook</a>'\n",
              "          + ' to learn more about interactive tables.';\n",
              "        element.innerHTML = '';\n",
              "        dataTable['output_type'] = 'display_data';\n",
              "        await google.colab.output.renderOutput(dataTable, element);\n",
              "        const docLink = document.createElement('div');\n",
              "        docLink.innerHTML = docLinkHtml;\n",
              "        element.appendChild(docLink);\n",
              "      }\n",
              "    </script>\n",
              "  </div>\n",
              "\n",
              "\n",
              "    <div id=\"df-ea247e61-3114-4741-900a-f8feab324c43\">\n",
              "      <button class=\"colab-df-quickchart\" onclick=\"quickchart('df-ea247e61-3114-4741-900a-f8feab324c43')\"\n",
              "                title=\"Suggest charts\"\n",
              "                style=\"display:none;\">\n",
              "\n",
              "<svg xmlns=\"http://www.w3.org/2000/svg\" height=\"24px\"viewBox=\"0 0 24 24\"\n",
              "     width=\"24px\">\n",
              "    <g>\n",
              "        <path d=\"M19 3H5c-1.1 0-2 .9-2 2v14c0 1.1.9 2 2 2h14c1.1 0 2-.9 2-2V5c0-1.1-.9-2-2-2zM9 17H7v-7h2v7zm4 0h-2V7h2v10zm4 0h-2v-4h2v4z\"/>\n",
              "    </g>\n",
              "</svg>\n",
              "      </button>\n",
              "\n",
              "<style>\n",
              "  .colab-df-quickchart {\n",
              "      --bg-color: #E8F0FE;\n",
              "      --fill-color: #1967D2;\n",
              "      --hover-bg-color: #E2EBFA;\n",
              "      --hover-fill-color: #174EA6;\n",
              "      --disabled-fill-color: #AAA;\n",
              "      --disabled-bg-color: #DDD;\n",
              "  }\n",
              "\n",
              "  [theme=dark] .colab-df-quickchart {\n",
              "      --bg-color: #3B4455;\n",
              "      --fill-color: #D2E3FC;\n",
              "      --hover-bg-color: #434B5C;\n",
              "      --hover-fill-color: #FFFFFF;\n",
              "      --disabled-bg-color: #3B4455;\n",
              "      --disabled-fill-color: #666;\n",
              "  }\n",
              "\n",
              "  .colab-df-quickchart {\n",
              "    background-color: var(--bg-color);\n",
              "    border: none;\n",
              "    border-radius: 50%;\n",
              "    cursor: pointer;\n",
              "    display: none;\n",
              "    fill: var(--fill-color);\n",
              "    height: 32px;\n",
              "    padding: 0;\n",
              "    width: 32px;\n",
              "  }\n",
              "\n",
              "  .colab-df-quickchart:hover {\n",
              "    background-color: var(--hover-bg-color);\n",
              "    box-shadow: 0 1px 2px rgba(60, 64, 67, 0.3), 0 1px 3px 1px rgba(60, 64, 67, 0.15);\n",
              "    fill: var(--button-hover-fill-color);\n",
              "  }\n",
              "\n",
              "  .colab-df-quickchart-complete:disabled,\n",
              "  .colab-df-quickchart-complete:disabled:hover {\n",
              "    background-color: var(--disabled-bg-color);\n",
              "    fill: var(--disabled-fill-color);\n",
              "    box-shadow: none;\n",
              "  }\n",
              "\n",
              "  .colab-df-spinner {\n",
              "    border: 2px solid var(--fill-color);\n",
              "    border-color: transparent;\n",
              "    border-bottom-color: var(--fill-color);\n",
              "    animation:\n",
              "      spin 1s steps(1) infinite;\n",
              "  }\n",
              "\n",
              "  @keyframes spin {\n",
              "    0% {\n",
              "      border-color: transparent;\n",
              "      border-bottom-color: var(--fill-color);\n",
              "      border-left-color: var(--fill-color);\n",
              "    }\n",
              "    20% {\n",
              "      border-color: transparent;\n",
              "      border-left-color: var(--fill-color);\n",
              "      border-top-color: var(--fill-color);\n",
              "    }\n",
              "    30% {\n",
              "      border-color: transparent;\n",
              "      border-left-color: var(--fill-color);\n",
              "      border-top-color: var(--fill-color);\n",
              "      border-right-color: var(--fill-color);\n",
              "    }\n",
              "    40% {\n",
              "      border-color: transparent;\n",
              "      border-right-color: var(--fill-color);\n",
              "      border-top-color: var(--fill-color);\n",
              "    }\n",
              "    60% {\n",
              "      border-color: transparent;\n",
              "      border-right-color: var(--fill-color);\n",
              "    }\n",
              "    80% {\n",
              "      border-color: transparent;\n",
              "      border-right-color: var(--fill-color);\n",
              "      border-bottom-color: var(--fill-color);\n",
              "    }\n",
              "    90% {\n",
              "      border-color: transparent;\n",
              "      border-bottom-color: var(--fill-color);\n",
              "    }\n",
              "  }\n",
              "</style>\n",
              "\n",
              "      <script>\n",
              "        async function quickchart(key) {\n",
              "          const quickchartButtonEl =\n",
              "            document.querySelector('#' + key + ' button');\n",
              "          quickchartButtonEl.disabled = true;  // To prevent multiple clicks.\n",
              "          quickchartButtonEl.classList.add('colab-df-spinner');\n",
              "          try {\n",
              "            const charts = await google.colab.kernel.invokeFunction(\n",
              "                'suggestCharts', [key], {});\n",
              "          } catch (error) {\n",
              "            console.error('Error during call to suggestCharts:', error);\n",
              "          }\n",
              "          quickchartButtonEl.classList.remove('colab-df-spinner');\n",
              "          quickchartButtonEl.classList.add('colab-df-quickchart-complete');\n",
              "        }\n",
              "        (() => {\n",
              "          let quickchartButtonEl =\n",
              "            document.querySelector('#df-ea247e61-3114-4741-900a-f8feab324c43 button');\n",
              "          quickchartButtonEl.style.display =\n",
              "            google.colab.kernel.accessAllowed ? 'block' : 'none';\n",
              "        })();\n",
              "      </script>\n",
              "    </div>\n",
              "    </div>\n",
              "  </div>\n"
            ],
            "application/vnd.google.colaboratory.intrinsic+json": {
              "type": "dataframe",
              "variable_name": "corrected_zhunt_df"
            }
          },
          "metadata": {},
          "execution_count": 162
        }
      ]
    },
    {
      "cell_type": "code",
      "source": [
        "corrected_zhunt_df[[4, 5, 6]] = [4, 5, 6]\n",
        "corrected_zhunt_df.to_csv('zhunt.bed', sep='\\t', header=None, index=False)"
      ],
      "metadata": {
        "id": "t09kFbWLLKt3"
      },
      "execution_count": 163,
      "outputs": []
    },
    {
      "cell_type": "markdown",
      "source": [
        "### Результаты z-hunt в участках"
      ],
      "metadata": {
        "id": "MhhYrRtyL9G_"
      }
    },
    {
      "cell_type": "code",
      "source": [
        "!bedtools intersect -a zhunt.bed -b exons.bed -wa > zhunt_in_exons.bed\n",
        "!cat zhunt_in_exons.bed | wc -l\n",
        "!echo\n",
        "!bedtools intersect -a zhunt.bed -b introns.bed -wa > zhunt_in_introns.bed\n",
        "!cat zhunt_in_introns.bed | wc -l\n",
        "!echo\n",
        "!bedtools intersect -a zhunt.bed -b promoters.bed -wa > zhunt_in_promoters.bed\n",
        "!cat zhunt_in_promoters.bed | wc -l\n",
        "!echo\n",
        "!bedtools intersect -a zhunt.bed -b downstream.bed -wa > zhunt_in_downstream.bed\n",
        "!cat zhunt_in_downstream.bed | wc -l\n",
        "!echo\n",
        "!bedtools intersect -a zhunt.bed -b intergenic.bed -wa > zhunt_in_intergenic.bed\n",
        "!cat zhunt_in_intergenic.bed | wc -l"
      ],
      "metadata": {
        "colab": {
          "base_uri": "https://localhost:8080/"
        },
        "id": "7KskJSdfMCv0",
        "outputId": "4d89b8f0-3f57-440d-d3f6-89abc2072228"
      },
      "execution_count": 180,
      "outputs": [
        {
          "output_type": "stream",
          "name": "stdout",
          "text": [
            "2265\n",
            "\n",
            "3687\n",
            "\n",
            "746\n",
            "\n",
            "113\n",
            "\n",
            "5265\n"
          ]
        }
      ]
    },
    {
      "cell_type": "code",
      "source": [
        "!cat zhunt.bed | wc -l"
      ],
      "metadata": {
        "colab": {
          "base_uri": "https://localhost:8080/"
        },
        "id": "BmFb1tZOMn_O",
        "outputId": "fa87352c-be73-4402-82c7-45cd0f173f4a"
      },
      "execution_count": 56,
      "outputs": [
        {
          "output_type": "stream",
          "name": "stdout",
          "text": [
            "163286\n"
          ]
        }
      ]
    },
    {
      "cell_type": "code",
      "source": [
        "2265 / 60320, 3687 / 49547, 746 / 12876, 113 / 12874, 5265 / 10992"
      ],
      "metadata": {
        "colab": {
          "base_uri": "https://localhost:8080/"
        },
        "id": "sFJvC1LPyN85",
        "outputId": "f75a251c-7f21-4a22-bd5e-6d3b9c2f293e"
      },
      "execution_count": 181,
      "outputs": [
        {
          "output_type": "execute_result",
          "data": {
            "text/plain": [
              "(0.03754973474801061,\n",
              " 0.07441419258481846,\n",
              " 0.057937247592420006,\n",
              " 0.008777380767438248,\n",
              " 0.4789847161572052)"
            ]
          },
          "metadata": {},
          "execution_count": 181
        }
      ]
    },
    {
      "cell_type": "markdown",
      "source": [
        "### Число участков с результатами Z-hunt"
      ],
      "metadata": {
        "id": "tQIxNvSBPTY6"
      }
    },
    {
      "cell_type": "code",
      "source": [
        "!bedtools intersect -a exons.bed -b zhunt.bed -wa > exons_with_zhunt_all.bed\n",
        "!sort -u exons_with_zhunt_all.bed > exons_with_zhunt.bed\n",
        "!cat exons_with_zhunt.bed | wc -l\n",
        "!cat exons.bed | wc -l\n",
        "!echo\n",
        "!bedtools intersect -a introns.bed -b zhunt.bed -wa > introns_with_zhunt_all.bed\n",
        "!sort -u introns_with_zhunt_all.bed > introns_with_zhunt.bed\n",
        "!cat introns_with_zhunt.bed | wc -l\n",
        "!cat introns.bed | wc -l\n",
        "!echo\n",
        "!bedtools intersect -a promoters.bed -b zhunt.bed -wa > promoters_with_zhunt_all.bed\n",
        "!sort -u promoters_with_zhunt_all.bed > promoters_with_zhunt.bed\n",
        "!cat promoters_with_zhunt.bed | wc -l\n",
        "!cat promoters.bed | wc -l\n",
        "!echo\n",
        "!bedtools intersect -a downstream.bed -b zhunt.bed -wa > downstream_with_zhunt_all.bed\n",
        "!sort -u downstream_with_zhunt_all.bed > downstream_with_zhunt.bed\n",
        "!cat downstream_with_zhunt.bed | wc -l\n",
        "!cat downstream.bed | wc -l\n",
        "!echo\n",
        "!bedtools intersect -a intergenic.bed -b zhunt.bed -wa > intergenic_with_zhunt_all.bed\n",
        "!sort -u intergenic_with_zhunt_all.bed > intergenic_with_zhunt.bed\n",
        "!cat intergenic_with_zhunt.bed | wc -l\n",
        "!cat intergenic.bed | wc -l"
      ],
      "metadata": {
        "colab": {
          "base_uri": "https://localhost:8080/"
        },
        "id": "npekzumpPgrd",
        "outputId": "5a3cf51e-137e-4446-e544-e3863130e4da"
      },
      "execution_count": 165,
      "outputs": [
        {
          "output_type": "stream",
          "name": "stdout",
          "text": [
            "1150\n",
            "60320\n",
            "\n",
            "742\n",
            "49547\n",
            "\n",
            "385\n",
            "12876\n",
            "\n",
            "101\n",
            "12874\n",
            "\n",
            "299\n",
            "10992\n"
          ]
        }
      ]
    },
    {
      "cell_type": "code",
      "source": [
        "!cat zhunt.bed | wc -l"
      ],
      "metadata": {
        "colab": {
          "base_uri": "https://localhost:8080/"
        },
        "id": "Nakaybt7Fdc2",
        "outputId": "7a844f6a-4fde-4dd0-b081-fe2b5b523c8b"
      },
      "execution_count": 62,
      "outputs": [
        {
          "output_type": "stream",
          "name": "stdout",
          "text": [
            "163286\n"
          ]
        }
      ]
    },
    {
      "cell_type": "code",
      "source": [
        "1150 / 60320, 742 / 49547, 385 / 12876, 101 / 12874, 299 /10992"
      ],
      "metadata": {
        "colab": {
          "base_uri": "https://localhost:8080/"
        },
        "id": "4pT3ImwTFfzx",
        "outputId": "07061a27-f901-4cf9-c75a-97600ffc7d2a"
      },
      "execution_count": 182,
      "outputs": [
        {
          "output_type": "execute_result",
          "data": {
            "text/plain": [
              "(0.019064986737400532,\n",
              " 0.01497567965769875,\n",
              " 0.029900590245417833,\n",
              " 0.007845269535497903,\n",
              " 0.02720160116448326)"
            ]
          },
          "metadata": {},
          "execution_count": 182
        }
      ]
    },
    {
      "cell_type": "markdown",
      "source": [
        "## Z-DNABERT"
      ],
      "metadata": {
        "id": "yk2oBaI9WRFC"
      }
    },
    {
      "cell_type": "code",
      "source": [
        "with open(\"text_predictions.txt\", \"r\") as preds:\n",
        "  with open(\"zdnabert.bed\", \"w\") as bed:\n",
        "    chrom = 'NC_064876.1'\n",
        "    for line in preds.readlines():\n",
        "      if 'GCF' in line:\n",
        "        continue\n",
        "      if 'start' in line:\n",
        "        continue\n",
        "      if 'NC_' in line or 'NW' in line:\n",
        "        chrom = line.strip()\n",
        "        print(chrom)\n",
        "        continue\n",
        "      try:\n",
        "        start, end = map(int, line.split())\n",
        "        bed.write(chrom + \"\\t\" + str(start) + \"\\t\" + str(end) + \"\\n\")\n",
        "      except:\n",
        "        continue\n"
      ],
      "metadata": {
        "id": "ZHVcFatO1vPD"
      },
      "execution_count": null,
      "outputs": []
    },
    {
      "cell_type": "code",
      "source": [
        "!bedtools intersect -a zdnabert.bed -b exons.bed -wa > zdna_in_exons.bed\n",
        "!cat zdna_in_exons.bed | wc -l\n",
        "!echo\n",
        "!bedtools intersect -a zdnabert.bed -b introns.bed -wa | wc -l\n",
        "!echo\n",
        "!bedtools intersect -a zdnabert.bed -b promoters.bed -wa | wc -l\n",
        "!echo\n",
        "!bedtools intersect -a zdnabert.bed -b downstream.bed -wa | wc -l\n",
        "!echo\n",
        "!bedtools intersect -a zdnabert.bed -b intergenic.bed -wa | wc -l"
      ],
      "metadata": {
        "id": "e1ls4zul9CEC",
        "colab": {
          "base_uri": "https://localhost:8080/"
        },
        "outputId": "cf856f60-ed6a-4dc0-cf34-75f7a63c96d9"
      },
      "execution_count": 184,
      "outputs": [
        {
          "output_type": "stream",
          "name": "stdout",
          "text": [
            "9461\n",
            "\n",
            "14937\n",
            "\n",
            "3262\n",
            "\n",
            "353\n",
            "\n",
            "13993\n"
          ]
        }
      ]
    },
    {
      "cell_type": "code",
      "source": [
        "!bedtools intersect -a zdnabert.bed -b intergenic.bed -wa | wc -l"
      ],
      "metadata": {
        "colab": {
          "base_uri": "https://localhost:8080/"
        },
        "id": "n3KMIgId-oCK",
        "outputId": "9344cff4-11da-4d23-df82-dcfed394ae6f"
      },
      "execution_count": 188,
      "outputs": [
        {
          "output_type": "stream",
          "name": "stdout",
          "text": [
            "13993\n"
          ]
        }
      ]
    },
    {
      "cell_type": "code",
      "source": [
        "9461 / 60320, 14937 / 49547, 3262 / 12876, 353 / 12874, 13993 /10992"
      ],
      "metadata": {
        "colab": {
          "base_uri": "https://localhost:8080/"
        },
        "id": "N4A0mavNysY4",
        "outputId": "81737db2-0771-4ad5-d83b-c14fbbd68c7b"
      },
      "execution_count": 189,
      "outputs": [
        {
          "output_type": "execute_result",
          "data": {
            "text/plain": [
              "(0.15684681697612732,\n",
              " 0.3014713302520839,\n",
              " 0.2533395464429947,\n",
              " 0.027419605406245145,\n",
              " 1.2730167394468705)"
            ]
          },
          "metadata": {},
          "execution_count": 189
        }
      ]
    },
    {
      "cell_type": "code",
      "source": [
        "9447 / 37986, 14937 / 37986, 3262 / 37986, 353 / 37986, 13993 / 37986"
      ],
      "metadata": {
        "colab": {
          "base_uri": "https://localhost:8080/"
        },
        "id": "DWtm70lW-rL_",
        "outputId": "a6bf66d6-54d6-458d-dcae-3311d9fdd06a"
      },
      "execution_count": 124,
      "outputs": [
        {
          "output_type": "execute_result",
          "data": {
            "text/plain": [
              "(0.24869688832727846,\n",
              " 0.3932238193018481,\n",
              " 0.08587374295793188,\n",
              " 0.009292897383246458,\n",
              " 0.36837255831095667)"
            ]
          },
          "metadata": {},
          "execution_count": 124
        }
      ]
    },
    {
      "cell_type": "code",
      "source": [
        "!bedtools intersect -a exons.bed -b zdnabert.bed -wa > exons_with_zdnabert_all.bed\n",
        "!sort -u exons_with_zdnabert_all.bed > exons_with_zdnabert.bed\n",
        "!cat exons_with_zdnabert.bed | wc -l\n",
        "!cat exons.bed | wc -l\n",
        "!echo\n",
        "!bedtools intersect -a introns.bed -b zdnabert.bed -wa > introns_with_zdnabert_all.bed\n",
        "!sort -u introns_with_zdnabert_all.bed > introns_with_zdnabert.bed\n",
        "!cat introns_with_zdnabert.bed | wc -l\n",
        "!cat introns.bed | wc -l\n",
        "!echo\n",
        "!bedtools intersect -a promoters.bed -b zdnabert.bed -wa > promoters_with_zdnabert_all.bed\n",
        "!sort -u promoters_with_zdnabert_all.bed > promoters_with_zdnabert.bed\n",
        "!cat promoters_with_zdnabert.bed | wc -l\n",
        "!cat promoters.bed | wc -l\n",
        "!echo\n",
        "!bedtools intersect -a downstream.bed -b zdnabert.bed -wa > downstream_with_zdnabert_all.bed\n",
        "!sort -u downstream_with_zdnabert_all.bed > downstream_with_zdnabert.bed\n",
        "!cat downstream_with_zdnabert.bed | wc -l\n",
        "!cat downstream.bed | wc -l\n",
        "!echo\n",
        "!bedtools intersect -a intergenic.bed -b zdnabert.bed -wa > intergenic_with_zdnabert_all.bed\n",
        "!sort -u intergenic_with_zdnabert_all.bed > intergenic_with_zdnabert.bed\n",
        "!cat intergenic_with_zdnabert.bed | wc -l\n",
        "!cat intergenic.bed | wc -l"
      ],
      "metadata": {
        "colab": {
          "base_uri": "https://localhost:8080/"
        },
        "id": "hFfYIIIO5cYX",
        "outputId": "a0f8302f-f75f-4d16-eb69-8f756388d41e"
      },
      "execution_count": 190,
      "outputs": [
        {
          "output_type": "stream",
          "name": "stdout",
          "text": [
            "4397\n",
            "60320\n",
            "\n",
            "2774\n",
            "49547\n",
            "\n",
            "2166\n",
            "12876\n",
            "\n",
            "325\n",
            "12874\n",
            "\n",
            "1742\n",
            "10992\n"
          ]
        }
      ]
    },
    {
      "cell_type": "code",
      "source": [
        "4397 / 60320, 2774 / 49547, 2166 / 12876, 325 / 12874, 1742 /10992"
      ],
      "metadata": {
        "colab": {
          "base_uri": "https://localhost:8080/"
        },
        "id": "m35cQ0pCzFrX",
        "outputId": "0bd0dca3-b661-42e0-e181-2daafbfd961c"
      },
      "execution_count": 191,
      "outputs": [
        {
          "output_type": "execute_result",
          "data": {
            "text/plain": [
              "(0.07289456233421751,\n",
              " 0.05598724443457727,\n",
              " 0.16821994408201305,\n",
              " 0.02524467919838434,\n",
              " 0.1584788937409025)"
            ]
          },
          "metadata": {},
          "execution_count": 191
        }
      ]
    },
    {
      "cell_type": "markdown",
      "source": [
        "## Фоновое распределение"
      ],
      "metadata": {
        "id": "OhGUJLcvKrLg"
      }
    },
    {
      "cell_type": "code",
      "source": [
        "genome_length =  176590975"
      ],
      "metadata": {
        "id": "m3e2ePVFTvH7"
      },
      "execution_count": 111,
      "outputs": []
    },
    {
      "cell_type": "code",
      "source": [
        "!cat exons.bed | wc -l\n",
        "!cat introns.bed | wc -l\n",
        "!cat promoters.bed | wc -l\n",
        "!cat downstream.bed | wc -l\n",
        "!cat intergenic.bed | wc -l"
      ],
      "metadata": {
        "colab": {
          "base_uri": "https://localhost:8080/"
        },
        "id": "kRPqd3JfoKz_",
        "outputId": "21c2d6d2-e56d-40e5-cab9-f2af38c22458"
      },
      "execution_count": 192,
      "outputs": [
        {
          "output_type": "stream",
          "name": "stdout",
          "text": [
            "60320\n",
            "49547\n",
            "12876\n",
            "12874\n",
            "10992\n"
          ]
        }
      ]
    },
    {
      "cell_type": "code",
      "source": [
        "total = 60360 + 49547 + 12876 + 12874 + 10992"
      ],
      "metadata": {
        "id": "9oMuY5a1o1KC"
      },
      "execution_count": 117,
      "outputs": []
    },
    {
      "cell_type": "code",
      "source": [
        "60360 / total"
      ],
      "metadata": {
        "colab": {
          "base_uri": "https://localhost:8080/"
        },
        "id": "oHKNNE72ojCV",
        "outputId": "cbd58676-6ca9-4b09-8951-d71fcd6bd8c2"
      },
      "execution_count": 193,
      "outputs": [
        {
          "output_type": "execute_result",
          "data": {
            "text/plain": [
              "0.4115950330380705"
            ]
          },
          "metadata": {},
          "execution_count": 193
        }
      ]
    },
    {
      "cell_type": "code",
      "source": [
        "49547 / total"
      ],
      "metadata": {
        "colab": {
          "base_uri": "https://localhost:8080/"
        },
        "id": "K6cQimcVol6B",
        "outputId": "d61d90d7-989d-4ba2-9f03-c4c198c6c882"
      },
      "execution_count": 119,
      "outputs": [
        {
          "output_type": "execute_result",
          "data": {
            "text/plain": [
              "0.33786115145688006"
            ]
          },
          "metadata": {},
          "execution_count": 119
        }
      ]
    },
    {
      "cell_type": "code",
      "source": [
        "12876 / total"
      ],
      "metadata": {
        "colab": {
          "base_uri": "https://localhost:8080/"
        },
        "id": "X_9GXWrComJ0",
        "outputId": "f55a561d-66bc-44a6-8b2b-e21073fff8cb"
      },
      "execution_count": 120,
      "outputs": [
        {
          "output_type": "execute_result",
          "data": {
            "text/plain": [
              "0.08780148517889655"
            ]
          },
          "metadata": {},
          "execution_count": 120
        }
      ]
    },
    {
      "cell_type": "code",
      "source": [
        "12874 / total"
      ],
      "metadata": {
        "colab": {
          "base_uri": "https://localhost:8080/"
        },
        "id": "m0uGOkVUomXB",
        "outputId": "1b4879a9-5d61-4d97-88d4-0a69cadec57e"
      },
      "execution_count": 121,
      "outputs": [
        {
          "output_type": "execute_result",
          "data": {
            "text/plain": [
              "0.08778784717250032"
            ]
          },
          "metadata": {},
          "execution_count": 121
        }
      ]
    },
    {
      "cell_type": "code",
      "source": [
        "10992 / total"
      ],
      "metadata": {
        "colab": {
          "base_uri": "https://localhost:8080/"
        },
        "id": "riO7IlILomgX",
        "outputId": "cf746d41-dd68-4e5f-adef-64a2f14f30d0"
      },
      "execution_count": 122,
      "outputs": [
        {
          "output_type": "execute_result",
          "data": {
            "text/plain": [
              "0.07495448315365259"
            ]
          },
          "metadata": {},
          "execution_count": 122
        }
      ]
    },
    {
      "cell_type": "markdown",
      "source": [
        "## Распределения хитов"
      ],
      "metadata": {
        "id": "ww9xOM_lo85Q"
      }
    },
    {
      "cell_type": "markdown",
      "source": [
        "### Квадруплексы"
      ],
      "metadata": {
        "id": "1aZi6t3BTbmG"
      }
    },
    {
      "cell_type": "code",
      "source": [
        "quadrs = pd.read_csv('quadruplex.bed', sep='\\t', header=None)\n",
        "quadrs['len'] = quadrs[2] - quadrs[1]\n",
        "len_quadrs = quadrs['len'].sum()\n",
        "print(len_quadrs)"
      ],
      "metadata": {
        "colab": {
          "base_uri": "https://localhost:8080/"
        },
        "id": "AYI5WJp5zJwq",
        "outputId": "9244ce56-46e9-4df3-c80d-8a39e2cbeb31"
      },
      "execution_count": 170,
      "outputs": [
        {
          "output_type": "stream",
          "name": "stdout",
          "text": [
            "611355\n"
          ]
        }
      ]
    },
    {
      "cell_type": "code",
      "source": [
        "len_quadrs / genome_length"
      ],
      "metadata": {
        "colab": {
          "base_uri": "https://localhost:8080/"
        },
        "id": "NWZEcPHaUXfg",
        "outputId": "eee7d4c4-7efb-4f70-afec-9dc5ff8c0e9c"
      },
      "execution_count": 171,
      "outputs": [
        {
          "output_type": "execute_result",
          "data": {
            "text/plain": [
              "np.float64(0.00346198326386725)"
            ]
          },
          "metadata": {},
          "execution_count": 171
        }
      ]
    },
    {
      "cell_type": "markdown",
      "source": [
        "### Результаты z-hunt"
      ],
      "metadata": {
        "id": "xurINe2_Uigf"
      }
    },
    {
      "cell_type": "code",
      "source": [
        "zhunt_coords['len'] = zhunt_coords['end'] - zhunt_coords['start']\n",
        "len_zhunt = zhunt_coords['len'].sum()\n",
        "print(len_zhunt)"
      ],
      "metadata": {
        "colab": {
          "base_uri": "https://localhost:8080/"
        },
        "id": "-HHv4Qh_UaWX",
        "outputId": "abab3720-150f-477e-99b0-a6cc9611e0cd"
      },
      "execution_count": 172,
      "outputs": [
        {
          "output_type": "stream",
          "name": "stdout",
          "text": [
            "4517716\n"
          ]
        }
      ]
    },
    {
      "cell_type": "code",
      "source": [
        "len_zhunt / genome_length"
      ],
      "metadata": {
        "colab": {
          "base_uri": "https://localhost:8080/"
        },
        "id": "bWH2AzZ4Umc4",
        "outputId": "a517931b-ab5f-4bf5-d696-3a185fbf69e3"
      },
      "execution_count": 173,
      "outputs": [
        {
          "output_type": "execute_result",
          "data": {
            "text/plain": [
              "np.float64(0.025582938199418176)"
            ]
          },
          "metadata": {},
          "execution_count": 173
        }
      ]
    },
    {
      "cell_type": "markdown",
      "source": [
        "### Результаты Z-DNABERT"
      ],
      "metadata": {
        "id": "3snOImAnVFSf"
      }
    },
    {
      "cell_type": "code",
      "source": [
        "bert = pd.read_csv('zdnabert.bed', sep='\\t', header=None)\n",
        "bert['len'] = bert[2] - bert[1]\n",
        "len_bert = bert['len'].sum()\n",
        "print(len_bert)"
      ],
      "metadata": {
        "id": "k1wfgaZ2VIFf",
        "colab": {
          "base_uri": "https://localhost:8080/"
        },
        "outputId": "150d7e3d-712b-40be-d7d8-1dd4b86a7242"
      },
      "execution_count": 174,
      "outputs": [
        {
          "output_type": "stream",
          "name": "stdout",
          "text": [
            "646927\n"
          ]
        }
      ]
    },
    {
      "cell_type": "code",
      "source": [
        "len_bert / genome_length"
      ],
      "metadata": {
        "colab": {
          "base_uri": "https://localhost:8080/"
        },
        "id": "ONM-2xq-6_9i",
        "outputId": "6dbee80b-1e68-48cb-c29d-839f1798755b"
      },
      "execution_count": 175,
      "outputs": [
        {
          "output_type": "execute_result",
          "data": {
            "text/plain": [
              "np.float64(0.003663420511722074)"
            ]
          },
          "metadata": {},
          "execution_count": 175
        }
      ]
    }
  ],
  "metadata": {
    "colab": {
      "provenance": []
    },
    "kernelspec": {
      "display_name": "Python 3",
      "name": "python3"
    },
    "language_info": {
      "name": "python"
    }
  },
  "nbformat": 4,
  "nbformat_minor": 0
}